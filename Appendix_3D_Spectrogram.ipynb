{
  "nbformat": 4,
  "nbformat_minor": 0,
  "metadata": {
    "colab": {
      "provenance": [],
      "authorship_tag": "ABX9TyNs0VKuLn56HlrooyC17TpP",
      "include_colab_link": true
    },
    "kernelspec": {
      "name": "python3",
      "display_name": "Python 3"
    },
    "language_info": {
      "name": "python"
    }
  },
  "cells": [
    {
      "cell_type": "markdown",
      "metadata": {
        "id": "view-in-github",
        "colab_type": "text"
      },
      "source": [
        "<a href=\"https://colab.research.google.com/github/ynebin/class2024Fall/blob/main/Appendix_3D_Spectrogram.ipynb\" target=\"_parent\"><img src=\"https://colab.research.google.com/assets/colab-badge.svg\" alt=\"Open In Colab\"/></a>"
      ]
    },
    {
      "cell_type": "code",
      "execution_count": null,
      "metadata": {
        "id": "Dh0z4KoNE7VZ"
      },
      "outputs": [],
      "source": [
        "import IPython.display as ipd\n",
        "import librosa\n",
        "import matplotlib.pyplot as plt\n",
        "import numpy as np\n",
        "import plotly.graph_objs as go\n",
        "\n",
        "audio, sr = librosa.load(\"aeiou.wav\")"
      ]
    },
    {
      "cell_type": "code",
      "source": [
        "audio = librosa.util.normalize(audio)\n",
        "librosa.display.waveshow(audio, sr=sr)"
      ],
      "metadata": {
        "id": "wOUz7DEYFMzt"
      },
      "execution_count": null,
      "outputs": []
    },
    {
      "cell_type": "code",
      "source": [
        "audio = librosa.effects.preemphasis(audio)\n",
        "\n",
        "n_fft = 2048\n",
        "hop_length = 512\n",
        "win_length = 2048\n",
        "\n",
        "spec = librosa.stft(audio, n_fft=n_fft, hop_length=hop_length, win_length=win_length)\n",
        "spec = np.abs(spec) ** 2\n",
        "spec = librosa.power_to_db(spec, ref=np.max)"
      ],
      "metadata": {
        "id": "1Wordl2YFPmL"
      },
      "execution_count": null,
      "outputs": []
    },
    {
      "cell_type": "code",
      "source": [
        "import IPython.display as ipd\n",
        "import librosa\n",
        "import matplotlib.pyplot as plt\n",
        "import numpy as np\n",
        "import plotly.graph_objs as go\n",
        "\n",
        "xTicks = np.linspace(1, audio.shape[0], spec.shape[1])\n",
        "freq = librosa.core.fft_frequencies(sr=sr, n_fft=2 * spec.shape[0])[:-1]\n",
        "\n",
        "fig = go.Figure(data=[go.Surface(x=xTicks, y=freq, z=spec, colorscale=\"gray\", reversescale=True)])\n",
        "\n",
        "fig.update_layout(\n",
        "    title='3D Spectrogram',\n",
        "    scene=dict(\n",
        "        xaxis_title='Time',\n",
        "        yaxis_title='Frequency',\n",
        "        zaxis_title='dB',\n",
        "        yaxis=dict(\n",
        "            range=[freq.min(), 5000]\n",
        "        )\n",
        "    ),\n",
        ")\n",
        "\n",
        "fig.show()"
      ],
      "metadata": {
        "id": "yJ5L05V1FhTh"
      },
      "execution_count": null,
      "outputs": []
    }
  ]
}