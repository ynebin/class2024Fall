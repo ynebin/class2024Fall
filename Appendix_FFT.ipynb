{
  "nbformat": 4,
  "nbformat_minor": 0,
  "metadata": {
    "colab": {
      "provenance": [],
      "authorship_tag": "ABX9TyO2/RAofTAS1xxcZe3l95FI",
      "include_colab_link": true
    },
    "kernelspec": {
      "name": "python3",
      "display_name": "Python 3"
    },
    "language_info": {
      "name": "python"
    }
  },
  "cells": [
    {
      "cell_type": "markdown",
      "metadata": {
        "id": "view-in-github",
        "colab_type": "text"
      },
      "source": [
        "<a href=\"https://colab.research.google.com/github/ynebin/class2024Fall/blob/main/Appendix_FFT.ipynb\" target=\"_parent\"><img src=\"https://colab.research.google.com/assets/colab-badge.svg\" alt=\"Open In Colab\"/></a>"
      ]
    },
    {
      "cell_type": "code",
      "execution_count": null,
      "metadata": {
        "id": "G1cf1O2ZkEEJ"
      },
      "outputs": [],
      "source": [
        "from matplotlib import pyplot as plt\n",
        "import librosa\n",
        "import numpy as np\n",
        "import soundfile as sf"
      ]
    },
    {
      "cell_type": "code",
      "source": [
        "audio_file = \"high0.wav\"\n",
        "audio, sr = librosa.load(audio_file)\n",
        "librosa.display.waveshow(audio, sr=sr)\n",
        "plt.title(\"Original Audio\")\n",
        "plt.show()"
      ],
      "metadata": {
        "id": "azrAst_mkYtY"
      },
      "execution_count": null,
      "outputs": []
    },
    {
      "cell_type": "code",
      "source": [
        "spectrum = np.fft.fft(audio)\n",
        "freqs = np.fft.fftfreq(len(spectrum), d=1/sr)\n",
        "\n",
        "plt.plot(freqs[:len(freqs) // 2], np.abs(spectrum)[:len(spectrum) // 2])\n",
        "plt.title(\"Original FFT Magnitude\")\n",
        "plt.xlabel(\"Frequency (Hz)\")\n",
        "plt.ylabel(\"Amplitude\")\n",
        "plt.grid()\n",
        "plt.show()"
      ],
      "metadata": {
        "id": "yAtEXwqck7ge"
      },
      "execution_count": null,
      "outputs": []
    },
    {
      "cell_type": "code",
      "source": [
        "freq_cutoff = 1000\n",
        "spectrum[np.abs(freqs) > freq_cutoff] = 0\n",
        "\n",
        "plt.plot(freqs[:len(freqs)//2], np.abs(spectrum)[:len(spectrum)//2])\n",
        "plt.title(\"FFT Magnitude After Cutoff\")\n",
        "plt.xlabel(\"Frequency (Hz)\")\n",
        "plt.ylabel(\"Amplitude\")\n",
        "plt.grid()\n",
        "plt.show()"
      ],
      "metadata": {
        "id": "2_NCRbSLlad-"
      },
      "execution_count": null,
      "outputs": []
    },
    {
      "cell_type": "code",
      "source": [
        "filtered_audio = np.real(np.fft.ifft(spectrum))\n",
        "\n",
        "librosa.display.waveshow(filtered_audio, sr=sr)\n",
        "plt.title(\"Filtered Audio\")\n",
        "plt.show()\n",
        "\n",
        "filtered_audio = np.int16(filtered_audio / np.max(np.abs(filtered_audio)) * 32767)\n",
        "sf.write(f\"filtered_{audio_file[:-4]}.wav\", filtered_audio, sr)"
      ],
      "metadata": {
        "id": "YocVsxZ_lqfc"
      },
      "execution_count": null,
      "outputs": []
    }
  ]
}