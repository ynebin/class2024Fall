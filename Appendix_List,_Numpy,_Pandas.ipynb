{
  "nbformat": 4,
  "nbformat_minor": 0,
  "metadata": {
    "colab": {
      "provenance": [],
      "authorship_tag": "ABX9TyNr/IwRen2l/ktU6R/e5g4z",
      "include_colab_link": true
    },
    "kernelspec": {
      "name": "python3",
      "display_name": "Python 3"
    },
    "language_info": {
      "name": "python"
    }
  },
  "cells": [
    {
      "cell_type": "markdown",
      "metadata": {
        "id": "view-in-github",
        "colab_type": "text"
      },
      "source": [
        "<a href=\"https://colab.research.google.com/github/ynebin/class2024Fall/blob/main/Appendix_List%2C_Numpy%2C_Pandas.ipynb\" target=\"_parent\"><img src=\"https://colab.research.google.com/assets/colab-badge.svg\" alt=\"Open In Colab\"/></a>"
      ]
    },
    {
      "cell_type": "markdown",
      "source": [
        "# Appendix: List, Numpy, Pandas"
      ],
      "metadata": {
        "id": "cgQHt7oVXeSK"
      }
    },
    {
      "cell_type": "markdown",
      "source": [
        "## Index\n",
        "\n",
        "* List\n",
        "\n",
        "```python\n",
        "a[0]\n",
        "a[1:4]\n",
        "```\n",
        "\n",
        "* Numpy\n",
        "\n",
        "```python\n",
        "a[0, 2]\n",
        "a[1:3, 2:4]\n",
        "```\n",
        "\n",
        "* Pandas\n",
        "\n",
        "```python\n",
        "a.loc[0]\n",
        "a[\"Temperature\"]\n",
        "a.loc[1:2, [\"Temperature\", \"Humidity\"]]\n",
        "```\n",
        "\n",
        "## Add\n",
        "\n",
        "* List\n",
        "\n",
        "```python\n",
        "a.append(3)\n",
        "```\n",
        "\n",
        "* Pandas\n",
        "\n",
        "```python\n",
        "a.loc[5] = {\"Temperature\": 19, \"Humidity\": 28, \"City\": \"Seoul\"}\n",
        "```\n",
        "\n",
        "## Revise\n",
        "\n",
        "```python\n",
        "a[수정할 데이터의 위치] = 새로운 데이터\n",
        "```\n",
        "\n",
        "## Delete\n",
        "\n",
        "* list\n",
        "\n",
        "```python\n",
        "a.pop()\n",
        "```\n",
        "\n",
        "* pandas\n",
        "\n",
        "```python\n",
        "a = a.drop(5, axis=0)\n",
        "a = a.drop(\"Temperature\", axis=1)\n",
        "```\n",
        "\n",
        "\n",
        "\n"
      ],
      "metadata": {
        "id": "GPHUwaGsXlKA"
      }
    }
  ]
}