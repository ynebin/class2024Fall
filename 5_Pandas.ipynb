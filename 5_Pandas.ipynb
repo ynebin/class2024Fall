{
  "nbformat": 4,
  "nbformat_minor": 0,
  "metadata": {
    "colab": {
      "provenance": [],
      "authorship_tag": "ABX9TyPTG3rkVupxWsIKDLN9ZFqz",
      "include_colab_link": true
    },
    "kernelspec": {
      "name": "python3",
      "display_name": "Python 3"
    },
    "language_info": {
      "name": "python"
    }
  },
  "cells": [
    {
      "cell_type": "markdown",
      "metadata": {
        "id": "view-in-github",
        "colab_type": "text"
      },
      "source": [
        "<a href=\"https://colab.research.google.com/github/ynebin/class2024Fall/blob/main/5_Pandas.ipynb\" target=\"_parent\"><img src=\"https://colab.research.google.com/assets/colab-badge.svg\" alt=\"Open In Colab\"/></a>"
      ]
    },
    {
      "cell_type": "markdown",
      "source": [
        "# Pandas"
      ],
      "metadata": {
        "id": "R3SrZu5wKQwO"
      }
    },
    {
      "cell_type": "markdown",
      "source": [
        "## Basics\n",
        "\n",
        "* DataFrame\n",
        "\n",
        "```python\n",
        "import pandas as pd\n",
        "\n",
        "a = pd.read_csv(\"weather.csv\")\n",
        "b = pd.DataFrame([{\"Column1\": \"A\", \"Column2\": 1000}, {\"Column1\": \"B\", \"Column2\": 300}])\n",
        "```\n",
        "\n",
        "* Accessing Values\n",
        "\n",
        "```python\n",
        "# Column\n",
        "b = a[\"Temperature\"]\n",
        "d = a[[\"Humidity\", \"City\"]]\n",
        "\n",
        "# Row\n",
        "e = a.loc[0]\n",
        "f = a.loc[1:2]\n",
        "\n",
        "# Specific value\n",
        "g = a.loc[0, \"Temperature\"]\n",
        "h = a.loc[1:2, [\"Humidity\", \"City\"]]\n",
        "```\n",
        "\n",
        "* Adding Values\n",
        "\n",
        "```python\n",
        "a.loc[5] = { \"Temperature\": 19, \"Humidity\": 28, \"City\": \"Seoul\" }\n",
        "```\n",
        "\n",
        "* Deleting Values\n",
        "\n",
        "```python\n",
        "# Column\n",
        "a = a.drop(\"Temperature\", axis=1)\n",
        "\n",
        "# Row\n",
        "a = a.drop(5, axis=0)\n",
        "```\n",
        "\n",
        "* Basic Operations\n",
        "\n",
        "```python\n",
        "a.Quantity + 2\n",
        "a.Quantity > 60\n",
        "```"
      ],
      "metadata": {
        "id": "PTbVBivjKVeT"
      }
    },
    {
      "cell_type": "markdown",
      "source": [
        "## Grouping\n",
        "\n",
        "* value_counts()\n",
        "\n",
        "```python\n",
        "a.Category.value_counts()\n",
        "```\n",
        "\n",
        "* groupby()\n",
        "\n",
        "```python\n",
        "a.groupby(\"Category\").mean(numeric_only=True)\n",
        "```"
      ],
      "metadata": {
        "id": "T6FEeb-RNaJC"
      }
    },
    {
      "cell_type": "markdown",
      "source": [
        "## Filtering & Sorting\n",
        "\n",
        "* Filtering\n",
        "\n",
        "```python\n",
        "a[a.Quantity > 60]\n",
        "```\n",
        "\n",
        "* Sorting\n",
        "\n",
        "```python\n",
        "a.sort_values(by=\"Category\")\n",
        "```"
      ],
      "metadata": {
        "id": "nny-MI_mOY_s"
      }
    },
    {
      "cell_type": "markdown",
      "source": [
        "## Plotting\n",
        "\n",
        "* Line Plot\n",
        "\n",
        "```python\n",
        "import matplotlib.pyplot as plt\n",
        "\n",
        "a.plot(x=\"Price\", y=\"Quantity\", kind=\"line\")\n",
        "plt.show()\n",
        "```\n",
        "\n",
        "* Scatter Plot\n",
        "\n",
        "```python\n",
        "a.plot(x=\"Price\", y=\"Quantity\", kind=\"scatter\")\n",
        "plt.show()\n",
        "```\n",
        "\n",
        "* Bar Plot\n",
        "\n",
        "```python\n",
        "a.plot(x=\"City\", y=\"Humidity\", kind=\"bar\")\n",
        "plt.show()\n",
        "```\n",
        "\n",
        "* Pie Chart\n",
        "\n",
        "```python\n",
        "a = pd.DataFrame([{\"Category\": \"A\", \"Sales\": 1000},\n",
        "  {\"Category\": \"B\", \"Sales\": 300},\n",
        "  {\"Category\": \"C\", \"Sales\": 450},\n",
        "  {\"Category\": \"D\", \"Sales\": 100}])\n",
        "\n",
        "a.plot(y=\"Sales\", kind=\"pie\", labels=a.Category)\n",
        "plt.show()\n",
        "```"
      ],
      "metadata": {
        "id": "geCFO9tRO5on"
      }
    }
  ]
}