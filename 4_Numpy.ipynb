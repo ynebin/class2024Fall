{
  "nbformat": 4,
  "nbformat_minor": 0,
  "metadata": {
    "colab": {
      "provenance": [],
      "authorship_tag": "ABX9TyNiSbLcrpDI38/AFNAaBDtr",
      "include_colab_link": true
    },
    "kernelspec": {
      "name": "python3",
      "display_name": "Python 3"
    },
    "language_info": {
      "name": "python"
    }
  },
  "cells": [
    {
      "cell_type": "markdown",
      "metadata": {
        "id": "view-in-github",
        "colab_type": "text"
      },
      "source": [
        "<a href=\"https://colab.research.google.com/github/ynebin/class2024Fall/blob/main/4_Numpy.ipynb\" target=\"_parent\"><img src=\"https://colab.research.google.com/assets/colab-badge.svg\" alt=\"Open In Colab\"/></a>"
      ]
    },
    {
      "cell_type": "markdown",
      "source": [
        "# Package"
      ],
      "metadata": {
        "id": "DOu2dYMHjcQu"
      }
    },
    {
      "cell_type": "markdown",
      "source": [
        "## Python Standard Library\n",
        "\n",
        "* examples\n",
        "\n",
        "```python\n",
        "import random\n",
        "\n",
        "print(random.randint(1, 9))\n",
        "```\n",
        "\n",
        "```python\n",
        "import math\n",
        "\n",
        "print(math.sqrt(16))\n",
        "print(math.pi)\n",
        "```"
      ],
      "metadata": {
        "id": "7gWZZZ5GjqyN"
      }
    },
    {
      "cell_type": "markdown",
      "source": [
        "## Numpy\n",
        "\n",
        "* numpy array\n",
        "\n",
        "```python\n",
        "import numpy as np\n",
        "\n",
        "a = np.array([1, 2, 3])\n",
        "```\n",
        "\n",
        "* element-wise calculations\n",
        "\n",
        "```python\n",
        "b = a + 2\n",
        "c = a - 2\n",
        "d = a * 2\n",
        "e = a / 2\n",
        "f = a ** 2\n",
        "```\n",
        "\n",
        "* basic functions\n",
        "\n",
        "```python\n",
        "b = np.sum(a)\n",
        "c = np.mean(a)\n",
        "d = np.min(a)\n",
        "e = np.max(a)\n",
        "```\n",
        "\n",
        "* multi-dimensional array\n",
        "\n",
        "```python\n",
        "a = np.array([[1, 2], [3, 4], [5, 6]])\n",
        "\n",
        "b = a[0, 1]\n",
        "```\n",
        "\n",
        "* axis\n",
        "\n",
        "```python\n",
        "b = np.mean(a, axis=0)\n",
        "c = np.mean(a, axis=1)\n",
        "```\n",
        "\n",
        "* real-world data as numpy array\n",
        "\n",
        "```python\n",
        "# image\n",
        "from PIL import Image\n",
        "\n",
        "a = Image.open(\"cat.jpg\")\n",
        "b = np.array(a)\n",
        "```\n",
        "\n",
        "```python\n",
        "# audio\n",
        "import librosa\n",
        "\n",
        "a, sr = librosa.load(\"hi.mp3\")\n",
        "```\n"
      ],
      "metadata": {
        "id": "g5c_HKdokhWA"
      }
    }
  ]
}