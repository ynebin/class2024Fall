{
  "nbformat": 4,
  "nbformat_minor": 0,
  "metadata": {
    "colab": {
      "provenance": [],
      "authorship_tag": "ABX9TyOLn8SUlb+Q6Xq07o+RbCn7",
      "include_colab_link": true
    },
    "kernelspec": {
      "name": "python3",
      "display_name": "Python 3"
    },
    "language_info": {
      "name": "python"
    }
  },
  "cells": [
    {
      "cell_type": "markdown",
      "metadata": {
        "id": "view-in-github",
        "colab_type": "text"
      },
      "source": [
        "<a href=\"https://colab.research.google.com/github/ynebin/class2024Fall/blob/main/3_String_Formatting_%26_File_Handling.ipynb\" target=\"_parent\"><img src=\"https://colab.research.google.com/assets/colab-badge.svg\" alt=\"Open In Colab\"/></a>"
      ]
    },
    {
      "cell_type": "markdown",
      "source": [
        "# String Formatting & File Handling"
      ],
      "metadata": {
        "id": "Jt_b0qfrCKrV"
      }
    },
    {
      "cell_type": "markdown",
      "source": [
        "## String Formatting\n",
        "\n",
        "* f-string\n",
        "\n",
        "```python\n",
        "language = \"python\"\n",
        "sentence = f\"Hello, welcome to {language} programming!\"\n",
        "print(sentence)\n",
        "```"
      ],
      "metadata": {
        "id": "nb_UZmyuFMYP"
      }
    },
    {
      "cell_type": "markdown",
      "source": [
        "## Reading From Files\n",
        "\n",
        "* read()\n",
        "\n",
        "```python\n",
        "with open(\"sample.txt\", \"r\") as file:\n",
        "  content = file.read()\n",
        "```\n",
        "\n",
        "* readline()\n",
        "\n",
        "```python\n",
        "with open(\"sample.txt\", \"r\") as file:\n",
        "  line = file.readline()\n",
        "```\n",
        "\n",
        "* readlines()\n",
        "\n",
        "```python\n",
        "with open(\"sample.txt\", \"r\") as file:\n",
        "  lines = file.readlines()\n",
        "  \n",
        "  for line in lines:\n",
        "    print(line)\n",
        "```"
      ],
      "metadata": {
        "id": "m26WKcyzCVPR"
      }
    },
    {
      "cell_type": "markdown",
      "source": [
        "## Writing To Files\n",
        "\n",
        "* write()\n",
        "\n",
        "```python\n",
        "with open(\"sample.txt\", \"w\") as file:\n",
        "  file.write(\"Hello world!\")\n",
        "```\n",
        "\n",
        "* append\n",
        "\n",
        "```python\n",
        "with open(\"sample.txt\", \"a\") as file:\n",
        "  file.write(\"Hello python!\")\n",
        "```\n",
        "\n",
        "* newline\n",
        "\n",
        "```python\n",
        "with open(\"sample.txt\", \"w\") as file:\n",
        "  file.write(\"Hello world!\\n\")\n",
        "  file.write(\"Hello python!\")\n",
        "```"
      ],
      "metadata": {
        "id": "8COXeSv2Dzmm"
      }
    }
  ]
}