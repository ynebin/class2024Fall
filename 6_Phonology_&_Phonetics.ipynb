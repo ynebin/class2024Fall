{
  "nbformat": 4,
  "nbformat_minor": 0,
  "metadata": {
    "colab": {
      "provenance": [],
      "authorship_tag": "ABX9TyM0kp08eohwLlDBHskW5srQ",
      "include_colab_link": true
    },
    "kernelspec": {
      "name": "python3",
      "display_name": "Python 3"
    },
    "language_info": {
      "name": "python"
    }
  },
  "cells": [
    {
      "cell_type": "markdown",
      "metadata": {
        "id": "view-in-github",
        "colab_type": "text"
      },
      "source": [
        "<a href=\"https://colab.research.google.com/github/ynebin/class2024Fall/blob/main/6_Phonology_%26_Phonetics.ipynb\" target=\"_parent\"><img src=\"https://colab.research.google.com/assets/colab-badge.svg\" alt=\"Open In Colab\"/></a>"
      ]
    },
    {
      "cell_type": "markdown",
      "source": [
        "# Phonology & Phonetics"
      ],
      "metadata": {
        "id": "nNG-iRIaAfI9"
      }
    },
    {
      "cell_type": "markdown",
      "source": [
        "## Phonology\n",
        "\n",
        "Phonology is a linguistic field that focuses on the study of the sound patterns and systems in language. It examines how sounds are organized and used in different languages to convey meaning.\n",
        "\n",
        "## Phonetics\n",
        "\n",
        "Phonetics deals with the physical properties of speech sounds, such as their articultion, acoustic properties, and auditory perception.\n",
        "\n",
        "## Difference\n",
        "\n",
        "Phonetics focuses on the actual sounds themselves, while phonology examines the rules and patterns that govern how those sounds work together in a language."
      ],
      "metadata": {
        "id": "_tFrxiwqCr38"
      }
    },
    {
      "cell_type": "markdown",
      "source": [
        "## Waveform\n",
        "\n",
        "* Load\n",
        "\n",
        "```python\n",
        "import librosa\n",
        "\n",
        "audio, sr = librosa.load(\"aeiou.wav\")\n",
        "```\n",
        "\n",
        "* Plot\n",
        "\n",
        "```python\n",
        "from matplotlib import pyplot as plt\n",
        "\n",
        "librosa.display.waveshow(audio, sr=sr)\n",
        "plt.title(\"audio\")\n",
        "plt.show()\n",
        "```\n",
        "\n",
        "* Normalize\n",
        "\n",
        "```python\n",
        "norm_audio = librosa.util.normalize(audio)\n",
        "\n",
        "librosa.display.waveshow(norm_audio, sr=sr)\n",
        "plt.title(\"normalized audio\")\n",
        "plt.show()\n",
        "```"
      ],
      "metadata": {
        "id": "GEA71zK7AwO_"
      }
    },
    {
      "cell_type": "markdown",
      "source": [
        "## Audio Processing\n",
        "\n",
        "* Pre-emphasis\n",
        "\n",
        "```python\n",
        "pre_audio = librosa.effects.preemphasis(norm_audio)\n",
        "```\n",
        "\n",
        "* Short-time Fourier Transform\n",
        "\n",
        "```python\n",
        "n_fft = 2048\n",
        "hop_length = 512\n",
        "win_length = 2048\n",
        "\n",
        "spec = librosa.stft(pre_audio, n_fft=n_fft, hop_length=hop_length, win_length=win_length)\n",
        "spec = np.abs(spec) ** 2\n",
        "spec_db = librosa.power_to_db(spec, ref=np.max)\n",
        "\n",
        "plt.figure(figsize=(15, 5))\n",
        "plt.ylim([0, 5000])\n",
        "librosa.display.specshow(spec_db, sr=sr, x_axis=\"time\", y_axis=\"linear\")\n",
        "plt.title(\"spectrogram (pre-emphasis O, dB)\")\n",
        "plt.show()\n",
        "```\n",
        "\n",
        "* Mel-scale Spectrogram\n",
        "\n",
        "```python\n",
        "mel_spec = librosa.feature.melspectrogram(sr=sr, n_fft=n_fft, hop_length=hop_length, win_length=win_length, fmax=8000, S=spec)\n",
        "mel_spec_db = librosa.power_to_db(mel_spec, ref=np.max)\n",
        "\n",
        "plt.figure(figsize=(15, 5))\n",
        "librosa.display.specshow(mel_spec_db, sr=sr, x_axis=\"time\", y_axis=\"mel\", fmax=8000)\n",
        "plt.title(\"mel-scale spectrogram\")\n",
        "plt.show()\n",
        "```"
      ],
      "metadata": {
        "id": "dCpSPE3pBVxC"
      }
    }
  ]
}