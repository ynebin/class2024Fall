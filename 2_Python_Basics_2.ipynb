{
  "nbformat": 4,
  "nbformat_minor": 0,
  "metadata": {
    "colab": {
      "provenance": [],
      "authorship_tag": "ABX9TyPYHxwOyPGTrIbZzD8r/1/Q",
      "include_colab_link": true
    },
    "kernelspec": {
      "name": "python3",
      "display_name": "Python 3"
    },
    "language_info": {
      "name": "python"
    }
  },
  "cells": [
    {
      "cell_type": "markdown",
      "metadata": {
        "id": "view-in-github",
        "colab_type": "text"
      },
      "source": [
        "<a href=\"https://colab.research.google.com/github/ynebin/class2024Fall/blob/main/2_Python_Basics_2.ipynb\" target=\"_parent\"><img src=\"https://colab.research.google.com/assets/colab-badge.svg\" alt=\"Open In Colab\"/></a>"
      ]
    },
    {
      "cell_type": "markdown",
      "source": [
        "# Python Basics (2)"
      ],
      "metadata": {
        "id": "Z3AJ45wgJDMt"
      }
    },
    {
      "cell_type": "markdown",
      "source": [
        "## Data Type: boolean\n",
        "\n",
        "* Creating Boolean Values\n",
        "```python\n",
        "a = True\n",
        "b = False\n",
        "```\n",
        "\n",
        "* Comparison\n",
        "```python\n",
        "a == b\n",
        "a != b\n",
        "```\n",
        "\n",
        "* Logical Operation\n",
        "```python\n",
        "a and b\n",
        "a or b\n",
        "not a\n",
        "```"
      ],
      "metadata": {
        "id": "L8Nxm1yTJJpv"
      }
    },
    {
      "cell_type": "markdown",
      "source": [
        "## Control Flow: if, elif, else\n",
        "\n",
        "* Syntax\n",
        "```python\n",
        "if condition:\n",
        "    # execute this block of code\n",
        "elif another_condition:\n",
        "    # execute this block of code\n",
        "else:\n",
        "    # if none of the above conditions are true, execute this block\n",
        "```"
      ],
      "metadata": {
        "id": "l5gqUhrVMBn8"
      }
    },
    {
      "cell_type": "markdown",
      "source": [
        "## Control Flow: for\n",
        "\n",
        "* Syntax\n",
        "```python\n",
        "for item in sequence:\n",
        "    # execute this block of code for each item in the sequence\n",
        "```"
      ],
      "metadata": {
        "id": "ZDeCBGm9M1RJ"
      }
    },
    {
      "cell_type": "markdown",
      "source": [
        "## Control Flow: while\n",
        "\n",
        "* Syntax\n",
        "```python\n",
        "while condition:\n",
        "    # execute this block of code as long as the condition is true\n",
        "```"
      ],
      "metadata": {
        "id": "vhOg4NV_NNL-"
      }
    },
    {
      "cell_type": "markdown",
      "source": [
        "## Iterating Over Lists\n",
        "\n",
        "* Iterating Over Lists\n",
        "```python\n",
        "for item in my_list:\n",
        "    print(item)\n",
        "```\n",
        "\n",
        "* List Comprehensions\n",
        "```python\n",
        "new_list = [x + 1 for x in range(5)]\n",
        "```"
      ],
      "metadata": {
        "id": "N-MrxAzRNoXL"
      }
    },
    {
      "cell_type": "markdown",
      "source": [
        "## Iterating Over Dictionaries\n",
        "\n",
        "* Iterating Over Dictionaries\n",
        "```python\n",
        "for key, value in my_dict.items():\n",
        "    print(key, value)\n",
        "```\n",
        "\n",
        "* Dictionary Comprehensions\n",
        "```python\n",
        "new_dict = {x: x + 1 for x in range(5)}\n",
        "```"
      ],
      "metadata": {
        "id": "1ICrGtdPOuYI"
      }
    },
    {
      "cell_type": "markdown",
      "source": [
        "## Function\n",
        "\n",
        "* Syntax\n",
        "\n",
        "```python\n",
        "def function_name(parameters):\n",
        "    # block of code\n",
        "    return result\n",
        "```\n",
        "\n",
        "* Scope\n",
        "\n",
        "```python\n",
        "x = 10\n",
        "\n",
        "def my_function():\n",
        "    y = 5\n",
        "    print(x)  # This will print 10 (global variable)\n",
        "    print(y)  # This will print 5 (local variable)\n",
        "\n",
        "my_function()\n",
        "print(y)  # This will cause an error\n",
        "```"
      ],
      "metadata": {
        "id": "98KzdJ92PUew"
      }
    }
  ]
}